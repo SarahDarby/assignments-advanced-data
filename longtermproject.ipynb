{
 "cells": [
  {
   "cell_type": "code",
   "execution_count": 764,
   "metadata": {
    "collapsed": true
   },
   "outputs": [],
   "source": [
    "import agate"
   ]
  },
  {
   "cell_type": "code",
   "execution_count": 765,
   "metadata": {
    "collapsed": false
   },
   "outputs": [
    {
     "name": "stdout",
     "output_type": "stream",
     "text": [
      "|---------------------+---------------|\n",
      "|  column_names       | column_types  |\n",
      "|---------------------+---------------|\n",
      "|  Post               | Text          |\n",
      "|  Posted             | DateTime      |\n",
      "|  OrganicReach       | Number        |\n",
      "|  OrganicImpressions | Number        |\n",
      "|  EngagedUsers       | Number        |\n",
      "|  Comments           | Number        |\n",
      "|  Likes              | Number        |\n",
      "|  Shares             | Number        |\n",
      "|  LinkClicks         | Number        |\n",
      "|  OtherClicks        | Number        |\n",
      "|---------------------+---------------|\n",
      "\n"
     ]
    }
   ],
   "source": [
    "#print table showing data in FBPostInsightsUSE.csv\n",
    "\n",
    "postdata = agate.Table.from_csv('FBPostInsightsUSE.csv', encoding='latin1')\n",
    "\n",
    "print postdata"
   ]
  },
  {
   "cell_type": "code",
   "execution_count": 766,
   "metadata": {
    "collapsed": false,
    "scrolled": true
   },
   "outputs": [
    {
     "name": "stdout",
     "output_type": "stream",
     "text": [
      "<agate.Column: (u\"This week's most-read stories include a meet and greet with Sen. Kurt Schaefer, a growing feral hog problem around the state and a former Rock Bridge High School football cornerback's determination to overcome the odds and land a spot in the NFL. http://bit.ly/1UqBxRN\", u'The Columbia City Council is set to introduce an ordinance that would freeze the construction of downtown apartments until December, so Mizzou Hillel has postponed its development of a new student housing complex. http://bit.ly/26Iq457', u'TODAY IN PHOTOS: Check out how Orthodox Christians are gathering to celebrate Easter, following the older Julian calendar, in this photo collection from the Associated Press. http://bit.ly/1NfJHLu', u\"Tune in to ESPN tonight at 8 p.m. to see &quot;Norm,&quot; an new documentary on former Missouri men's basketball head coach Norm Stewart. The documentary chronicles Stewart's coaching career and serves as a trip down memory lane to a more successful era for the team. http://bit.ly/26InOuI\", u'The students of Russell Boulevard Elementary School got a real treat when musician Allington Jolly played tunes before MAP testing last week. Russell Principal Jill Dunlap-Brown and Jolly came up with the idea after teachers noticed students were happier and more polite after listening to his music in the morning. http://bit.ly/1UpKqv9', ...)>\n"
     ]
    }
   ],
   "source": [
    "#print text contained in Post column\n",
    "\n",
    "print postdata.columns[0]"
   ]
  },
  {
   "cell_type": "code",
   "execution_count": 767,
   "metadata": {
    "collapsed": false
   },
   "outputs": [
    {
     "name": "stdout",
     "output_type": "stream",
     "text": [
      "<agate.Row: (u\"This week's most-read stories include a meet and greet with Sen. Kurt Schaefer, a growing feral hog problem around the state and a former Rock Bridge High School football cornerback's determination to overcome the odds and land a spot in the NFL. http://bit.ly/1UqBxRN\", datetime.datetime(2016, 5, 1, 20, 8), Decimal('1852'), Decimal('3064'), Decimal('60'), ...)>\n",
      "3064\n"
     ]
    }
   ],
   "source": [
    "#Print first row of data in FBPostInsightsUSE.csv\n",
    "\n",
    "first_row = postdata.rows[0]\n",
    "print first_row\n",
    "print first_row['OrganicImpressions']"
   ]
  },
  {
   "cell_type": "code",
   "execution_count": 768,
   "metadata": {
    "collapsed": false
   },
   "outputs": [
    {
     "name": "stdout",
     "output_type": "stream",
     "text": [
      "234\n"
     ]
    }
   ],
   "source": [
    "#Count total number of posts that had at least 1 Facebook share between Feb. 1, 2016 and May 1, 2016\n",
    "\n",
    "post_shares = postdata.aggregate(agate.Count('Shares'))\n",
    "\n",
    "print(post_shares)"
   ]
  },
  {
   "cell_type": "code",
   "execution_count": 769,
   "metadata": {
    "collapsed": true
   },
   "outputs": [],
   "source": [
    "#Create new variable that only include LinkClicks data that are not null\n",
    "\n",
    "with_click = postdata.where(lambda row: row['LinkClicks'] is not None)"
   ]
  },
  {
   "cell_type": "code",
   "execution_count": 770,
   "metadata": {
    "collapsed": false
   },
   "outputs": [
    {
     "name": "stdout",
     "output_type": "stream",
     "text": [
      "37\n"
     ]
    }
   ],
   "source": [
    "#Show total number of nulls in LinkClicks column\n",
    "\n",
    "old = len(postdata.rows)\n",
    "new = len(with_click.rows)\n",
    "\n",
    "print(old - new)"
   ]
  },
  {
   "cell_type": "code",
   "execution_count": 771,
   "metadata": {
    "collapsed": false,
    "scrolled": true
   },
   "outputs": [
    {
     "name": "stdout",
     "output_type": "stream",
     "text": [
      "39.92224622030237580993520518\n"
     ]
    }
   ],
   "source": [
    "#Calculate mean number of LinkClicks per post without null values\n",
    "\n",
    "post_link_clicks = postdata.aggregate(agate.Mean('LinkClicks'))\n",
    "\n",
    "print(post_link_clicks)"
   ]
  },
  {
   "cell_type": "code",
   "execution_count": 772,
   "metadata": {
    "collapsed": true
   },
   "outputs": [],
   "source": [
    "#Create new variable that only include Comments data that are not null\n",
    "\n",
    "with_comment = postdata.where(lambda row: row['Comments'] is not None)"
   ]
  },
  {
   "cell_type": "code",
   "execution_count": 773,
   "metadata": {
    "collapsed": false
   },
   "outputs": [
    {
     "name": "stdout",
     "output_type": "stream",
     "text": [
      "316\n"
     ]
    }
   ],
   "source": [
    "#Show total number of nulls in Comments column\n",
    "\n",
    "old = len(postdata.rows)\n",
    "new = len(with_comment.rows)\n",
    "\n",
    "print(old - new)"
   ]
  },
  {
   "cell_type": "code",
   "execution_count": 774,
   "metadata": {
    "collapsed": false
   },
   "outputs": [
    {
     "name": "stdout",
     "output_type": "stream",
     "text": [
      "9.146739130434782608695652174\n"
     ]
    }
   ],
   "source": [
    "#Calculate mean number of Comments per post without null values\n",
    "\n",
    "post_comments = postdata.aggregate(agate.Mean('Comments'))\n",
    "\n",
    "print(post_comments)"
   ]
  },
  {
   "cell_type": "code",
   "execution_count": 775,
   "metadata": {
    "collapsed": false,
    "scrolled": false
   },
   "outputs": [
    {
     "name": "stdout",
     "output_type": "stream",
     "text": [
      "3297.12\n"
     ]
    }
   ],
   "source": [
    "#Calculate mean OrganicImpressions per post \n",
    "\n",
    "post_organic_impressions = postdata.aggregate(agate.Mean('OrganicImpressions'))\n",
    "\n",
    "print(post_organic_impressions)"
   ]
  },
  {
   "cell_type": "code",
   "execution_count": 776,
   "metadata": {
    "collapsed": false
   },
   "outputs": [
    {
     "name": "stdout",
     "output_type": "stream",
     "text": [
      "|-----------------------+---------------------+--------------+--------------------+--------------+----------+-------+--------+------------+--------------|\n",
      "|  Post                 |              Posted | OrganicReach | OrganicImpressions | EngagedUsers | Comments | Likes | Shares | LinkClicks | OtherClicks  |\n",
      "|-----------------------+---------------------+--------------+--------------------+--------------+----------+-------+--------+------------+--------------|\n",
      "|  UPDATE (3:15 p.m.... | 2016-03-11 10:45:00 |       37,854 |             70,124 |        4,626 |      512 | 2,013 |    383 |      1,234 |       2,178  |\n",
      "|  The recent demoli... | 2016-04-15 13:04:00 |       19,285 |             38,209 |        1,623 |      122 |   200 |     48 |            |       1,491  |\n",
      "|  Parents and colle... | 2016-03-22 16:00:00 |       12,285 |             20,801 |        1,227 |        4 |   214 |     18 |        983 |         357  |\n",
      "|  In an effort to c... | 2016-04-07 14:09:00 |       11,495 |             19,648 |          942 |       75 |   351 |     70 |        286 |         481  |\n",
      "|  As a result of MU... | 2016-04-15 18:00:00 |       10,776 |             19,546 |          969 |       65 |   110 |     42 |        308 |         702  |\n",
      "|  Stepping and stro... | 2016-03-21 13:05:00 |       10,181 |             19,108 |          374 |       12 |    76 |     15 |          2 |         328  |\n",
      "|  The Stephens Coll... | 2016-03-18 18:00:00 |        7,864 |             18,357 |          363 |       15 |   119 |     20 |            |         301  |\n",
      "|  MU will save $200... | 2016-03-17 10:42:00 |        9,283 |             16,994 |          963 |       41 |    61 |     20 |        404 |         632  |\n",
      "|  Former Kansas wom... | 2016-03-29 11:15:00 |        9,845 |             15,088 |          568 |       16 |   161 |     17 |        187 |         322  |\n",
      "|  In the front row ... | 2016-03-14 20:46:00 |        9,504 |             14,542 |          508 |        1 |   285 |     15 |        127 |         213  |\n",
      "|-----------------------+---------------------+--------------+--------------------+--------------+----------+-------+--------+------------+--------------|\n"
     ]
    }
   ],
   "source": [
    "#Order Facebook posts by posts with the highest number of OrganicImpressions\n",
    "\n",
    "sorted_by_organic_impressions = postdata.order_by('OrganicImpressions', reverse=True)\n",
    "\n",
    "top_ten = sorted_by_organic_impressions.limit(10)\n",
    "\n",
    "top_ten.print_table(max_columns=10)"
   ]
  },
  {
   "cell_type": "code",
   "execution_count": 777,
   "metadata": {
    "collapsed": false,
    "scrolled": true
   },
   "outputs": [
    {
     "name": "stdout",
     "output_type": "stream",
     "text": [
      "|-----------------------+---------------------+--------------+--------------------+--------------+----------+-------+--------+------------+--------------|\n",
      "|  Post                 |              Posted | OrganicReach | OrganicImpressions | EngagedUsers | Comments | Likes | Shares | LinkClicks | OtherClicks  |\n",
      "|-----------------------+---------------------+--------------+--------------------+--------------+----------+-------+--------+------------+--------------|\n",
      "|  Sometimes reporti... | 2016-04-30 06:03:00 |           66 |                 99 |            1 |          |       |        |            |           1  |\n",
      "|  You are my sunsh... | 2016-05-01 08:45:00 |           68 |                103 |            3 |          |       |        |          1 |           2  |\n",
      "|  Attention all boo... | 2016-04-22 12:23:00 |           72 |                114 |            1 |          |       |        |            |           1  |\n",
      "|  TED is coming to ... | 2016-04-20 08:13:00 |           85 |                122 |            1 |          |       |        |            |           1  |\n",
      "|  One hundred Rock ... | 2016-04-16 12:00:00 |           85 |                133 |            2 |          |       |        |            |           2  |\n",
      "|  On Friday, MU stu... | 2016-04-29 18:25:00 |           78 |                135 |            2 |          |       |        |            |           2  |\n",
      "|  Looking for some ... | 2016-03-25 18:09:00 |           98 |                136 |            2 |          |       |        |          2 |              |\n",
      "|  Get your TED on t... | 2016-04-20 04:07:00 |          100 |                139 |            1 |          |     1 |        |            |              |\n",
      "|  We may have wrapp... | 2016-03-16 13:20:00 |           98 |                141 |            1 |          |       |        |          1 |              |\n",
      "|  Today's front pag... | 2016-04-28 06:05:00 |           93 |                148 |            0 |          |       |        |            |              |\n",
      "|-----------------------+---------------------+--------------+--------------------+--------------+----------+-------+--------+------------+--------------|\n"
     ]
    }
   ],
   "source": [
    "#Order Facebook posts by posts with the lowest number of OrganicImpressions\n",
    "\n",
    "sorted_by_lowest_organic_impressions = postdata.order_by('OrganicImpressions')\n",
    "\n",
    "bottom_ten = sorted_by_lowest_organic_impressions.limit(10)\n",
    "\n",
    "bottom_ten.print_table(max_columns=10)"
   ]
  },
  {
   "cell_type": "code",
   "execution_count": 778,
   "metadata": {
    "collapsed": false
   },
   "outputs": [
    {
     "name": "stdout",
     "output_type": "stream",
     "text": [
      "OrganicReach      Count\n",
      "[0 - 4,000)         462 ▓░░░░░░░░░░░░░░░░░░░░░░░░░░░░░░░░░░░░░░░░░░░░░░░░░░░    \n",
      "[4,000 - 8,000)      29 ▓░░░                                                    \n",
      "[8,000 - 12,000)      6 ▓░                                                      \n",
      "[12,000 - 16,000)     1 ▓                                                       \n",
      "[16,000 - 20,000)     1 ▓                                                       \n",
      "[36,000 - 40,000]     1 ▓                                                       \n",
      "                        +-------------+-------------+------------+-------------+\n",
      "                        0            125           250          375          500\n"
     ]
    }
   ],
   "source": [
    "#Create histogram of OrganicReach for all Facebook posts\n",
    "\n",
    "binned_organic_reach = postdata.bins('OrganicReach', 10, 0, 40000)\n",
    "binned_organic_reach.print_bars('OrganicReach', 'Count', width=80)"
   ]
  },
  {
   "cell_type": "code",
   "execution_count": 779,
   "metadata": {
    "collapsed": false,
    "scrolled": true
   },
   "outputs": [
    {
     "name": "stdout",
     "output_type": "stream",
     "text": [
      "Comments    Count\n",
      "[0 - 55)      180 ▓░░░░░░░░░░░░░░░░░░░░░░░░░░░                                  \n",
      "[55 - 110)      2 ▓                                                             \n",
      "[110 - 165)     1 ▓                                                             \n",
      "[495 - 550]     1 ▓                                                             \n",
      "None          316 ▓░░░░░░░░░░░░░░░░░░░░░░░░░░░░░░░░░░░░░░░░░░░░░░░░             \n",
      "                  +--------------+--------------+---------------+--------------+\n",
      "                  0             100            200             300           400\n"
     ]
    }
   ],
   "source": [
    "#Create histogram of Comments for all Facebook posts\n",
    "\n",
    "binned_comments = postdata.bins('Comments', 10, 0, 550)\n",
    "binned_comments.print_bars('Comments', 'Count', width=80)"
   ]
  },
  {
   "cell_type": "code",
   "execution_count": 780,
   "metadata": {
    "collapsed": false,
    "scrolled": true
   },
   "outputs": [
    {
     "name": "stdout",
     "output_type": "stream",
     "text": [
      "|-----------------------+---------------------+--------------+--------------------+--------------+----------+-------+--------+------------+--------------|\n",
      "|  Post                 |              Posted | OrganicReach | OrganicImpressions | EngagedUsers | Comments | Likes | Shares | LinkClicks | OtherClicks  |\n",
      "|-----------------------+---------------------+--------------+--------------------+--------------+----------+-------+--------+------------+--------------|\n",
      "|  This week's most-... | 2016-05-01 20:08:00 |        1,852 |              3,064 |           60 |          |     2 |        |         48 |          13  |\n",
      "|  The Columbia City... | 2016-05-01 18:20:00 |        4,105 |              6,621 |          205 |        1 |    28 |      2 |        116 |          90  |\n",
      "|  TODAY IN PHOTOS: ... | 2016-05-01 16:00:00 |          757 |              1,265 |            8 |          |     2 |        |          5 |           2  |\n",
      "|  Tune in to ESPN t... | 2016-05-01 14:20:00 |          640 |              1,081 |           21 |        5 |     8 |      5 |          6 |          11  |\n",
      "|  The students of R... | 2016-05-01 12:45:00 |        2,577 |              4,511 |          135 |        6 |    43 |     10 |         55 |          64  |\n",
      "|  Dr. Ross Gardener... | 2016-05-01 10:24:00 |          141 |                207 |            5 |          |     1 |        |          2 |           2  |\n",
      "|  You are my sunsh... | 2016-05-01 08:45:00 |           68 |                103 |            3 |          |       |        |          1 |           2  |\n",
      "|  Today's front pag... | 2016-05-01 06:00:00 |        2,285 |              6,624 |           23 |          |     1 |        |          4 |           5  |\n",
      "|  Missouri baseball... | 2016-04-30 20:11:00 |          579 |                948 |           11 |          |     5 |      1 |          2 |           5  |\n",
      "|  A proposed new zo... | 2016-04-30 18:10:00 |          205 |                340 |            3 |          |       |        |          3 |              |\n",
      "|  Horses dragged st... | 2016-04-30 16:15:00 |          855 |              1,373 |            7 |          |     2 |        |          2 |           4  |\n",
      "|  Three Tigers were... | 2016-04-30 15:00:00 |        2,521 |              3,940 |           58 |          |    19 |      1 |         33 |          14  |\n",
      "|  During his six-ye... | 2016-04-30 14:04:00 |        1,416 |              2,542 |           50 |          |     3 |        |         16 |          33  |\n",
      "|  Missouri men's ba... | 2016-04-30 12:20:00 |        1,597 |              2,795 |           38 |          |     2 |        |         27 |          11  |\n",
      "|  Doug Crews joined... | 2016-04-30 10:03:00 |          539 |                742 |           12 |          |     7 |        |          2 |           8  |\n",
      "|  J'den Cox has nev... | 2016-04-30 09:11:00 |        1,251 |              2,072 |           32 |          |     7 |      2 |         15 |          14  |\n",
      "|  Karley Mirts saw ... | 2016-04-30 08:25:00 |        1,033 |              1,735 |           16 |          |     2 |        |         10 |           8  |\n",
      "|  Sometimes reporti... | 2016-04-30 06:03:00 |           66 |                 99 |            1 |          |       |        |            |           1  |\n",
      "|  An autopsy report... | 2016-04-29 20:10:00 |        2,046 |              3,390 |           82 |          |     2 |        |         73 |           6  |\n",
      "|  On Friday, MU stu... | 2016-04-29 18:25:00 |           78 |                135 |            2 |          |       |        |            |           2  |\n",
      "|  ...                  |                 ... |          ... |                ... |          ... |      ... |   ... |    ... |        ... |         ...  |\n",
      "|-----------------------+---------------------+--------------+--------------------+--------------+----------+-------+--------+------------+--------------|\n"
     ]
    }
   ],
   "source": [
    "#Find all Facebook posts/rows that contain the word MU\n",
    "\n",
    "MU_search = postdata.where(lambda row: row['Post'].lower() != '*MU*')\n",
    "MU_search.print_table(max_columns=10)\n"
   ]
  },
  {
   "cell_type": "code",
   "execution_count": 781,
   "metadata": {
    "collapsed": false,
    "scrolled": true
   },
   "outputs": [
    {
     "name": "stdout",
     "output_type": "stream",
     "text": [
      "|-----------------------+---------------------+--------------+--------------------+--------------+----------+-------+--------+------------+--------------|\n",
      "|  Post                 |              Posted | OrganicReach | OrganicImpressions | EngagedUsers | Comments | Likes | Shares | LinkClicks | OtherClicks  |\n",
      "|-----------------------+---------------------+--------------+--------------------+--------------+----------+-------+--------+------------+--------------|\n",
      "|  This week's most-... | 2016-05-01 20:08:00 |        1,852 |              3,064 |           60 |          |     2 |        |         48 |          13  |\n",
      "|  The Columbia City... | 2016-05-01 18:20:00 |        4,105 |              6,621 |          205 |        1 |    28 |      2 |        116 |          90  |\n",
      "|  TODAY IN PHOTOS: ... | 2016-05-01 16:00:00 |          757 |              1,265 |            8 |          |     2 |        |          5 |           2  |\n",
      "|  Tune in to ESPN t... | 2016-05-01 14:20:00 |          640 |              1,081 |           21 |        5 |     8 |      5 |          6 |          11  |\n",
      "|  The students of R... | 2016-05-01 12:45:00 |        2,577 |              4,511 |          135 |        6 |    43 |     10 |         55 |          64  |\n",
      "|  Dr. Ross Gardener... | 2016-05-01 10:24:00 |          141 |                207 |            5 |          |     1 |        |          2 |           2  |\n",
      "|  You are my sunsh... | 2016-05-01 08:45:00 |           68 |                103 |            3 |          |       |        |          1 |           2  |\n",
      "|  Today's front pag... | 2016-05-01 06:00:00 |        2,285 |              6,624 |           23 |          |     1 |        |          4 |           5  |\n",
      "|  Missouri baseball... | 2016-04-30 20:11:00 |          579 |                948 |           11 |          |     5 |      1 |          2 |           5  |\n",
      "|  A proposed new zo... | 2016-04-30 18:10:00 |          205 |                340 |            3 |          |       |        |          3 |              |\n",
      "|  Horses dragged st... | 2016-04-30 16:15:00 |          855 |              1,373 |            7 |          |     2 |        |          2 |           4  |\n",
      "|  Three Tigers were... | 2016-04-30 15:00:00 |        2,521 |              3,940 |           58 |          |    19 |      1 |         33 |          14  |\n",
      "|  During his six-ye... | 2016-04-30 14:04:00 |        1,416 |              2,542 |           50 |          |     3 |        |         16 |          33  |\n",
      "|  Missouri men's ba... | 2016-04-30 12:20:00 |        1,597 |              2,795 |           38 |          |     2 |        |         27 |          11  |\n",
      "|  Doug Crews joined... | 2016-04-30 10:03:00 |          539 |                742 |           12 |          |     7 |        |          2 |           8  |\n",
      "|  J'den Cox has nev... | 2016-04-30 09:11:00 |        1,251 |              2,072 |           32 |          |     7 |      2 |         15 |          14  |\n",
      "|  Karley Mirts saw ... | 2016-04-30 08:25:00 |        1,033 |              1,735 |           16 |          |     2 |        |         10 |           8  |\n",
      "|  Sometimes reporti... | 2016-04-30 06:03:00 |           66 |                 99 |            1 |          |       |        |            |           1  |\n",
      "|  An autopsy report... | 2016-04-29 20:10:00 |        2,046 |              3,390 |           82 |          |     2 |        |         73 |           6  |\n",
      "|  On Friday, MU stu... | 2016-04-29 18:25:00 |           78 |                135 |            2 |          |       |        |            |           2  |\n",
      "|  ...                  |                 ... |          ... |                ... |          ... |      ... |   ... |    ... |        ... |         ...  |\n",
      "|-----------------------+---------------------+--------------+--------------------+--------------+----------+-------+--------+------------+--------------|\n"
     ]
    }
   ],
   "source": [
    "#Find all Facebook posts/rows that contain the word Missouri\n",
    "\n",
    "MU_search_2 = postdata.where(lambda row: row['Post'].lower() != '*Missouri*')\n",
    "MU_search_2.print_table(max_columns=10)"
   ]
  },
  {
   "cell_type": "code",
   "execution_count": 782,
   "metadata": {
    "collapsed": false
   },
   "outputs": [
    {
     "name": "stdout",
     "output_type": "stream",
     "text": [
      "|-----------------------+---------------------+--------------+--------------------+--------------+----------+-------+--------+------------+--------------|\n",
      "|  Post                 |              Posted | OrganicReach | OrganicImpressions | EngagedUsers | Comments | Likes | Shares | LinkClicks | OtherClicks  |\n",
      "|-----------------------+---------------------+--------------+--------------------+--------------+----------+-------+--------+------------+--------------|\n",
      "|  This week's most-... | 2016-05-01 20:08:00 |        1,852 |              3,064 |           60 |          |     2 |        |         48 |          13  |\n",
      "|  The Columbia City... | 2016-05-01 18:20:00 |        4,105 |              6,621 |          205 |        1 |    28 |      2 |        116 |          90  |\n",
      "|  TODAY IN PHOTOS: ... | 2016-05-01 16:00:00 |          757 |              1,265 |            8 |          |     2 |        |          5 |           2  |\n",
      "|  Tune in to ESPN t... | 2016-05-01 14:20:00 |          640 |              1,081 |           21 |        5 |     8 |      5 |          6 |          11  |\n",
      "|  The students of R... | 2016-05-01 12:45:00 |        2,577 |              4,511 |          135 |        6 |    43 |     10 |         55 |          64  |\n",
      "|  Dr. Ross Gardener... | 2016-05-01 10:24:00 |          141 |                207 |            5 |          |     1 |        |          2 |           2  |\n",
      "|  You are my sunsh... | 2016-05-01 08:45:00 |           68 |                103 |            3 |          |       |        |          1 |           2  |\n",
      "|  Today's front pag... | 2016-05-01 06:00:00 |        2,285 |              6,624 |           23 |          |     1 |        |          4 |           5  |\n",
      "|  Missouri baseball... | 2016-04-30 20:11:00 |          579 |                948 |           11 |          |     5 |      1 |          2 |           5  |\n",
      "|  A proposed new zo... | 2016-04-30 18:10:00 |          205 |                340 |            3 |          |       |        |          3 |              |\n",
      "|  Horses dragged st... | 2016-04-30 16:15:00 |          855 |              1,373 |            7 |          |     2 |        |          2 |           4  |\n",
      "|  Three Tigers were... | 2016-04-30 15:00:00 |        2,521 |              3,940 |           58 |          |    19 |      1 |         33 |          14  |\n",
      "|  During his six-ye... | 2016-04-30 14:04:00 |        1,416 |              2,542 |           50 |          |     3 |        |         16 |          33  |\n",
      "|  Missouri men's ba... | 2016-04-30 12:20:00 |        1,597 |              2,795 |           38 |          |     2 |        |         27 |          11  |\n",
      "|  Doug Crews joined... | 2016-04-30 10:03:00 |          539 |                742 |           12 |          |     7 |        |          2 |           8  |\n",
      "|  J'den Cox has nev... | 2016-04-30 09:11:00 |        1,251 |              2,072 |           32 |          |     7 |      2 |         15 |          14  |\n",
      "|  Karley Mirts saw ... | 2016-04-30 08:25:00 |        1,033 |              1,735 |           16 |          |     2 |        |         10 |           8  |\n",
      "|  Sometimes reporti... | 2016-04-30 06:03:00 |           66 |                 99 |            1 |          |       |        |            |           1  |\n",
      "|  An autopsy report... | 2016-04-29 20:10:00 |        2,046 |              3,390 |           82 |          |     2 |        |         73 |           6  |\n",
      "|  On Friday, MU stu... | 2016-04-29 18:25:00 |           78 |                135 |            2 |          |       |        |            |           2  |\n",
      "|  ...                  |                 ... |          ... |                ... |          ... |      ... |   ... |    ... |        ... |         ...  |\n",
      "|-----------------------+---------------------+--------------+--------------------+--------------+----------+-------+--------+------------+--------------|\n"
     ]
    }
   ],
   "source": [
    "#Find all Facebook posts/rows that contain the word Columbia\n",
    "\n",
    "MU_search_3 = postdata.where(lambda row: row['Post'].lower() != '*Columbia*')\n",
    "MU_search_3.print_table(max_columns=10)"
   ]
  }
 ],
 "metadata": {
  "kernelspec": {
   "display_name": "Python 2",
   "language": "python",
   "name": "python2"
  },
  "language_info": {
   "codemirror_mode": {
    "name": "ipython",
    "version": 2
   },
   "file_extension": ".py",
   "mimetype": "text/x-python",
   "name": "python",
   "nbconvert_exporter": "python",
   "pygments_lexer": "ipython2",
   "version": "2.7.11"
  }
 },
 "nbformat": 4,
 "nbformat_minor": 0
}
